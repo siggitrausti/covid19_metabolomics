{
 "cells": [
  {
   "cell_type": "markdown",
   "id": "68536eb2",
   "metadata": {},
   "source": [
    "# Notebook 4 - Modelling of data derived from network analysis of metabolomic measurements from plasma samples from COVID patients. \n",
    "\n",
    "#### This notebook is a part of a project with the Center for Systems Biology at the University of Iceland. The goal here is to:\n",
    "\n",
    "1. Take the results from a correlation network analysis of the untargeted metabolomic measurements of the plasma samples (which includes the module eigenvectors and the assignment of features into different modules) along with the original metabolomic dataframe and the clinical data, and create a model that is able to predict the composite outcome of the patients. \n",
    "\n",
    "2. After finding the modules that are most important for the prediction of composite outcomes, we look into these modules, what metabolic pathways they represent and what features are most representative of them. \n",
    "\n",
    "3. The most representative features (who have now been putatively annotated) are tried out as predictors of composite outcome. The results of that feature selection-based model is then compared to a model based on all >5000 features present in the untargeted metabolomic measurement. \n",
    "\n",
    "## Import modules:"
   ]
  },
  {
   "cell_type": "code",
   "execution_count": 1,
   "id": "fca1b50c",
   "metadata": {},
   "outputs": [],
   "source": [
    "import pandas as pd\n",
    "import numpy as np\n",
    "import time\n",
    "import math\n",
    "import matplotlib.pyplot as plt\n",
    "import seaborn as sns\n",
    "import sklearn\n",
    "from sklearn.model_selection import train_test_split\n",
    "from sklearn.impute import KNNImputer\n",
    "from sklearn.preprocessing import StandardScaler\n",
    "from sklearn.linear_model import ElasticNetCV\n",
    "from sklearn.metrics import classification_report\n",
    "from sklearn.linear_model import LogisticRegressionCV\n",
    "from sklearn.linear_model import LogisticRegression\n",
    "from sklearn.model_selection import GridSearchCV\n",
    "from sklearn.ensemble import RandomForestClassifier\n",
    "from sklearn.feature_selection import SelectFromModel\n",
    "from sklearn.metrics import accuracy_score\n",
    "from sklearn.metrics import RocCurveDisplay\n",
    "from sklearn.metrics import auc\n",
    "from sklearn.model_selection import StratifiedKFold\n",
    "from scipy import stats \n",
    "from scipy.stats import pearsonr"
   ]
  },
  {
   "cell_type": "markdown",
   "id": "253ce045",
   "metadata": {},
   "source": [
    "## Define functions"
   ]
  },
  {
   "cell_type": "code",
   "execution_count": 2,
   "id": "1795a413",
   "metadata": {},
   "outputs": [],
   "source": [
    "def impute_df(dataframe):\n",
    "    '''\n",
    "    A function to impute dataframe using KNN while still keeping the dataframe structure\n",
    "    '''\n",
    "    dat_columns = dataframe.columns\n",
    "    dat_index = dataframe.index.tolist()\n",
    "    imputah = KNNImputer()\n",
    "    scalah = StandardScaler()\n",
    "    dat_scaled = scalah.fit_transform(dataframe)\n",
    "    dat_imputed = imputah.fit_transform(dat_scaled)\n",
    "    dat_orig_transformed = scalah.inverse_transform(dat_imputed)\n",
    "    return_df = pd.DataFrame(dat_orig_transformed, columns = dat_columns,index = dat_index)\n",
    "    return return_df\n",
    "\n",
    "def remove_columns_with_missing_data(dataframe,threshold_percentage):\n",
    "    '''\n",
    "    A function to remove columns from a dataframe that have more than threshold_percentage missing values\n",
    "    '''\n",
    "    # First remove rows that have NaN for all values:\n",
    "    threshold_ = int(dataframe.shape[0]*(threshold_percentage/100))\n",
    "    idx_remove = []\n",
    "    for column_val in dataframe.columns:\n",
    "        if dataframe[column_val].isna().sum() > threshold_:\n",
    "            idx_remove.append(column_val)\n",
    "    df_out = dataframe.drop(idx_remove, axis=1)\n",
    "    return df_out\n",
    "\n",
    "def indices(lst, element):\n",
    "    result = []\n",
    "    offset = -1\n",
    "    while True:\n",
    "        try:\n",
    "            offset = lst.index(element, offset+1)\n",
    "        except ValueError:\n",
    "            return result\n",
    "        result.append(offset)\n",
    "        \n",
    "def t_test(x_dat,y_dat):\n",
    "    '''\n",
    "    A function to perform two sample t-test on all features in X_dat, where the rows are grouped based on y_dat.\n",
    "    No correction for multiple testing takes place here, but could easily be added. \n",
    "    '''\n",
    "    list_response_var = list(y_dat)\n",
    "    p_vals = []\n",
    "    t_vals = []\n",
    "    id_group1 = indices(list_response_var,1) # Get ids of all binaries of 1\n",
    "    id_group0 = indices(list_response_var,0) # Get ids of all binaries of 0\n",
    "    for col in x_dat.columns:\n",
    "        sample1 = x_dat.loc[id_group1,col].tolist()\n",
    "        sample0 = x_dat.loc[id_group0,col].tolist()\n",
    "        mean1,mean0 = np.mean(sample1), np.mean(sample0)\n",
    "        std1,std0 = np.std(sample1), np.std(sample0)\n",
    "        n1, n0 = len(sample1), len(sample0)\n",
    "        var_sample1, var_sample0= np.var(sample1, ddof=1), np.var(sample0, ddof=1)\n",
    "        var = ( ((n1-1)*var_sample1) + ((n0-1)*var_sample0) ) / (n1+n0-2)\n",
    "        # standard error\n",
    "        std_error = np.sqrt(var * (1.0 / n1 + 1.0 / n0))\n",
    "        t = abs(mean1 - mean0) / std_error\n",
    "        t_vals.append(t)\n",
    "        p_two = 2*(1-stats.t.cdf(x=t, df=n1+n0-2))\n",
    "        p_vals.append(p_two)\n",
    "    return t_vals,p_vals"
   ]
  },
  {
   "cell_type": "markdown",
   "id": "234db240",
   "metadata": {},
   "source": [
    "## Load data and make some adjustments to the clinical data:"
   ]
  },
  {
   "cell_type": "code",
   "execution_count": 3,
   "id": "0cc8b887",
   "metadata": {},
   "outputs": [],
   "source": [
    "mes = pd.read_csv('C:/Users/sigurdur.karvelsson/OneDrive - Alvotech/Documents/Other/COVID_project_CSB/MEs_dataframe_15SEP2022.csv')\n",
    "patients = pd.read_csv('C:/Users/sigurdur.karvelsson/OneDrive - Alvotech/Documents/Other/COVID_project_CSB/patients_vector_15SEP2022.csv')\n",
    "clin = pd.read_csv('C:/Users/sigurdur.karvelsson/OneDrive - Alvotech/Documents/Other/COVID_project_CSB/Database.csv',sep =';')\n",
    "id_present = [idxx_ for idxx_,x in enumerate(clin['Subject Identifier for the Study'].tolist()) if x in patients['x'].tolist()]\n",
    "clin = clin.iloc[id_present,:]\n",
    "clin = clin.reset_index()\n",
    "\n",
    "# Begin by getting only the clinical data with the non-outlier patient samples from the metabolomics network analysis: \n",
    "clin['sex_binary'] = clin['Sex']\n",
    "clin['sex_binary'].replace('Male', 0,inplace=True)\n",
    "clin['sex_binary'].replace('Female', 1,inplace=True)\n",
    "clin['HTN_binary'] = clin['HTN']\n",
    "clin['HTN_binary'].replace('Yes', 1,inplace=True)\n",
    "clin['HTN_binary'].replace('No', 0,inplace=True)\n",
    "clin['diabetes_binary'] = clin['Diabetes']\n",
    "clin['diabetes_binary'].replace('Yes', 1,inplace=True)\n",
    "clin['diabetes_binary'].replace('No', 0,inplace=True)\n",
    "clin = clin.loc[:, clin.columns != 'Sex']\n",
    "clin = clin.loc[:, clin.columns != 'HTN']\n",
    "clin = clin.loc[:, clin.columns != 'Diabetes']\n",
    "\n",
    "typess = clin.dtypes\n",
    "for column_val in clin.columns[6:]:\n",
    "    if typess[column_val] == 'O':\n",
    "        clin[column_val] = clin[column_val].str.replace(',','.')\n",
    "        clin[column_val] = pd.to_numeric(clin[column_val], errors='coerce')\n",
    "\n",
    "# Remove clinical data with more than 10% missing data:\n",
    "clin = remove_columns_with_missing_data(clin,10) \n",
    "\n",
    "# Select appropriate variables to keep in data:\n",
    "clin_orig = clin.copy()\n",
    "clin = clin[['sex_binary','BMI','Composite']]\n",
    "clin = impute_df(clin)\n",
    "clin_orig = impute_df(clin_orig)\n",
    "\n",
    "# Set response variable as integer:\n",
    "clin['Composite'] = clin['Composite'].astype(int)\n",
    "clin_orig['Composite'] = clin_orig['Composite'].astype(int)\n",
    "\n",
    "# Load data from the network analysis in R:\n",
    "mergedcolors = pd.read_csv('C:/Users/sigurdur.karvelsson/OneDrive - Alvotech/Documents/Other/COVID_project_CSB/module_assignments_15SEP2022.csv')\n",
    "findat = pd.read_csv('C:/Users/sigurdur.karvelsson/OneDrive - Alvotech/Documents/Other/COVID_project_CSB/Final_dataframe_15SEP2022.csv')\n",
    "datkme = pd.read_csv('C:/Users/sigurdur.karvelsson/OneDrive - Alvotech/Documents/Other/COVID_project_CSB/datkme_15SEP2022.csv')"
   ]
  },
  {
   "cell_type": "markdown",
   "id": "5530c2c1",
   "metadata": {},
   "source": [
    "## Split data into train and test sets:"
   ]
  },
  {
   "cell_type": "code",
   "execution_count": 4,
   "id": "fbe2a711",
   "metadata": {},
   "outputs": [],
   "source": [
    "new_mes = pd.concat([mes,clin.loc[:, clin.columns != 'Composite']],axis = 1)\n",
    "X = new_mes\n",
    "y = clin['Composite']\n",
    "X_train, X_test, y_train, y_test = train_test_split(X, y, test_size = 0.33,random_state=10)\n",
    "\n",
    "# Create clinical train and test data (for later modeling):\n",
    "clin_train = clin.iloc[y_train.index.tolist(),:]\n",
    "clin_test = clin.iloc[y_test.index.tolist(),:]\n",
    "\n",
    "# Create final train and test data (for later modeling):\n",
    "findat_train = findat.iloc[y_train.index.tolist(),:]\n",
    "findat_test = findat.iloc[y_test.index.tolist(),:]"
   ]
  },
  {
   "cell_type": "markdown",
   "id": "8c9439de",
   "metadata": {},
   "source": [
    "## Try out penalized logistic regression (LASSO):"
   ]
  },
  {
   "cell_type": "code",
   "execution_count": 5,
   "id": "6d51db5e",
   "metadata": {},
   "outputs": [
    {
     "name": "stdout",
     "output_type": "stream",
     "text": [
      "Tuned Logistic Regression Parameter: {'max_iter': 10000, 'penalty': 'l1', 'solver': 'saga'}\n",
      "Tuned Logistic Regression Accuracy: 0.7153846153846153\n"
     ]
    }
   ],
   "source": [
    "# Setup the parameters for the logistic regression model:\n",
    "param_grid = {'penalty': ['l1'], 'solver': ['saga'],'max_iter': [10000]}\n",
    "\n",
    "# Instantiate a logistic regression classifier: logreg\n",
    "logreg = LogisticRegression()\n",
    "\n",
    "# Instantiate the GridSearchCV object: logreg_cv\n",
    "logreg_cv = GridSearchCV(logreg, param_grid, cv=5) # specify the classifier, parameter grid, and number of folds to use.\n",
    "\n",
    "# Fit it to the data\n",
    "logreg_cv.fit(X_train.values, y_train.values)\n",
    "\n",
    "# Print the optimal parameters and best score\n",
    "print(\"Tuned Logistic Regression Parameter: {}\".format(logreg_cv.best_params_))\n",
    "print(\"Tuned Logistic Regression Accuracy: {}\".format(logreg_cv.best_score_))"
   ]
  },
  {
   "cell_type": "markdown",
   "id": "80ab87a0",
   "metadata": {},
   "source": [
    "## Try out random forest (RF):"
   ]
  },
  {
   "cell_type": "code",
   "execution_count": null,
   "id": "2c39158c",
   "metadata": {
    "scrolled": true
   },
   "outputs": [],
   "source": [
    "# Create a random forest classifier\n",
    "rf_clf = RandomForestClassifier()\n",
    "\n",
    "# Try out a grid of parameters:\n",
    "parameters = {'max_features':np.arange(2,4),'n_estimators':[1000,2000],'max_depth':[2,3,4], 'random_state':[0]}\n",
    "\n",
    "# Setup the gridsearch and fit the model to the training data:\n",
    "clf = GridSearchCV(rf_clf, parameters, cv = 5)\n",
    "clf.fit(X_train.values,y_train.values)\n",
    "feat_labels = new_mes.columns.tolist()\n",
    "\n",
    "# Save the best parameters for later:\n",
    "params_best = clf.best_estimator_.get_params()"
   ]
  },
  {
   "cell_type": "markdown",
   "id": "f08f25a9",
   "metadata": {},
   "source": [
    "## Select most important variables from RF model (Gini importance):"
   ]
  },
  {
   "cell_type": "code",
   "execution_count": null,
   "id": "530409fc",
   "metadata": {
    "scrolled": true
   },
   "outputs": [],
   "source": [
    "# Create a selector object that will use the random forest classifier to identify\n",
    "# features that have an importance of more than some threshold value: \n",
    "sfm = SelectFromModel(clf.best_estimator_, threshold=0.057)\n",
    "\n",
    "# Train the selector\n",
    "sfm.fit(X_train.values, y_train.values)\n",
    "\n",
    "# Print the names of the most important features\n",
    "features = []\n",
    "for feature_list_index in sfm.get_support(indices=True):\n",
    "    print(feat_labels[feature_list_index])\n",
    "    features.append(feat_labels[feature_list_index])\n",
    "    \n",
    "# Transform the data to create a new dataset containing only the most important features\n",
    "# Note: We have to apply the transform to both the training X and test X data.\n",
    "X_important_train = sfm.transform(X_train.values)\n",
    "X_important_test = sfm.transform(X_test.values)"
   ]
  },
  {
   "cell_type": "markdown",
   "id": "abf8988f",
   "metadata": {},
   "source": [
    "## Compare accuracy of full RF model (based on all modules) and a RF model based on most important modules:"
   ]
  },
  {
   "cell_type": "code",
   "execution_count": null,
   "id": "541ab31e",
   "metadata": {
    "scrolled": true
   },
   "outputs": [],
   "source": [
    "# Create a new random forest classifier for the most important features, with the same parameters as were shown to perform best\n",
    "# in the previous cell:\n",
    "clf_important = RandomForestClassifier(**params_best)\n",
    "\n",
    "# Apply The Full Featured Classifier To The Test Data\n",
    "y_pred = clf.best_estimator_.predict(X_test.values)\n",
    "\n",
    "# View The Accuracy Of Our Full Feature Model\n",
    "print('Accuracy for full RF model: ',accuracy_score(y_test.values, y_pred))\n",
    "\n",
    "# Train the new classifier on the new dataset containing the most important features\n",
    "clf_important.fit(X_important_train, y_train.values)\n",
    "\n",
    "# Apply The Full Featured Classifier To The Test Data\n",
    "y_important_pred = clf_important.predict(X_important_test)\n",
    "\n",
    "# View The Accuracy Of Our Limited Feature (2 Features) Model\n",
    "print('Accuracy for important-module RF model :',accuracy_score(y_test.values, y_important_pred))"
   ]
  },
  {
   "cell_type": "markdown",
   "id": "14ca06eb",
   "metadata": {},
   "source": [
    "## Now look at the ROC curves for prediction of composite outcome from the 1) Full l1-penalised logistic regression model, 2) Full RF model and 3) The important module RF model"
   ]
  },
  {
   "cell_type": "code",
   "execution_count": null,
   "id": "5c90ac35",
   "metadata": {
    "scrolled": false
   },
   "outputs": [],
   "source": [
    "RocCurveDisplay.from_estimator(logreg_cv.best_estimator_, X_test.values, y_test.values, name = 'All modules Logistic Regression classifier')\n",
    "RocCurveDisplay.from_estimator(clf.best_estimator_, X_test.values, y_test.values, name = 'All modules RF classifier')\n",
    "RocCurveDisplay.from_estimator(clf_important, X_important_test, y_test.values,name = 'Important modules RF classifier')\n",
    "plt.show()"
   ]
  },
  {
   "cell_type": "markdown",
   "id": "ec7ae371",
   "metadata": {},
   "source": [
    "## Plot the eigenvector values of the most important modules, stratified by the composite outcome of the patients. Also print their p-value (fraction of features belonging to that particular module):"
   ]
  },
  {
   "cell_type": "code",
   "execution_count": null,
   "id": "2cee541c",
   "metadata": {
    "scrolled": true
   },
   "outputs": [],
   "source": [
    "df = pd.concat([clin['Composite'],new_mes[features]],axis = 1)\n",
    "df_long = df.melt(id_vars=['Composite'])\n",
    "ax = sns.boxplot(data=df_long, x=\"value\", y=\"variable\", orient=\"h\", hue=\"Composite\")\n",
    "plt.tight_layout()\n",
    "plt.show()\n",
    "\n",
    "# To get the p-value threshold for the modules of interest:\n",
    "for module in features:\n",
    "    tmp_val = round(mergedcolors['x'].value_counts()[module[2:]]/len(mergedcolors),4)\n",
    "    print('p-value threshold for ',module,' is ',tmp_val)"
   ]
  },
  {
   "cell_type": "markdown",
   "id": "29ee50c7",
   "metadata": {},
   "source": [
    "## How can we visually confirm that these modules represent the most distinguishing modules of them all? We can calculate some sort of a size effect of the features, and compare them to the module membership values (basically the correlation of each feature to specific module's eigenvector)\n",
    "#### In this case, we are going to perform a series of two sample t-tests on the features, where the patients with different composite outcomes (1 and 0) are compared to each other and the t-statistic and associated two-sided p-value are extracted and used for plotting purposes\n",
    "#### Essentially, this will tell us whether \"belonging more to the module makes a feature a better predictor of composite outcome\""
   ]
  },
  {
   "cell_type": "code",
   "execution_count": 48,
   "id": "6b8b841e",
   "metadata": {},
   "outputs": [
    {
     "data": {
      "image/png": "[encoded data removed]",
      "text/plain": [
       "<Figure size 600x500 with 1 Axes>"
      ]
     },
     "metadata": {},
     "output_type": "display_data"
    }
   ],
   "source": [
    "# Perform the t-tests:\n",
    "t_vals,p_vals = t_test(findat,clin['Composite'])\n",
    "\n",
    "# Create a dataframe with the most important modules and t- and p-values:\n",
    "plot_data = pd.DataFrame([datkme['MM.darkolivegreen'].abs().tolist(),datkme['MM.red'].abs().tolist(),t_vals,[-np.log(x) for x in p_vals]]).T\n",
    "plot_data.columns = ['darkolivegreen','red','t_vals','p_vals']\n",
    "\n",
    "# Plot p-values as a function of module membership:\n",
    "sns.displot(data=plot_data, x=\"darkolivegreen\", y=\"p_vals\",height=5, aspect=6/5)\n",
    "plt.xlabel('Darkolivegreen module membership', fontsize=16);\n",
    "plt.ylabel('-log(p-value) of t-test', fontsize=16);\n",
    "\n",
    "# Calculate the pearson correlation value:\n",
    "r, p = pearsonr(plot_data['darkolivegreen'],plot_data['p_vals'])\n",
    "plt.text(1, .3, 'Pearson´s r={:.2f}\\n p={:e}'.format(r,p), transform=ax.transAxes)\n",
    "plt.show()"
   ]
  },
  {
   "cell_type": "code",
   "execution_count": 49,
   "id": "99807a06",
   "metadata": {
    "scrolled": true
   },
   "outputs": [
    {
     "data": {
      "image/png": "[encoded data removed]",
      "text/plain": [
       "<Figure size 600x500 with 1 Axes>"
      ]
     },
     "metadata": {},
     "output_type": "display_data"
    }
   ],
   "source": [
    "# Plot p-values as a function of module membership:\n",
    "sns.displot(data=plot_data, x=\"red\", y=\"p_vals\",height=5, aspect=6/5)\n",
    "plt.xlabel('Red module membership', fontsize=16);\n",
    "plt.ylabel('-log(p-value) of t-test', fontsize=16)\n",
    "\n",
    "# Calculate the pearson correlation value:\n",
    "r, p = pearsonr(plot_data['red'],plot_data['p_vals'])\n",
    "plt.text(1, .3, 'Pearson´s r={:.2f}\\n p={:e}'.format(r,p), transform=ax.transAxes)\n",
    "plt.show()"
   ]
  },
  {
   "cell_type": "markdown",
   "id": "2ed7b3a9",
   "metadata": {},
   "source": [
    "#### As we can see, the more the features belong to both darkolivegreen and red modules, the better predictors they are of composite outcome."
   ]
  },
  {
   "cell_type": "markdown",
   "id": "14ae386a",
   "metadata": {},
   "source": [
    "## Before moving further, the modules need to be annotated (using MetaboAnalyst). To prepare the modules for annotation, there is an R script which generates a .csv file that can be uploaded directly to MetaboAnalyst\n",
    "\n",
    "#### This will result in a particular feature being selected for each important module. The following procedure requires them to be selected beforehand. "
   ]
  },
  {
   "cell_type": "code",
   "execution_count": 10,
   "id": "1432b05f",
   "metadata": {
    "scrolled": true
   },
   "outputs": [
    {
     "data": {
      "image/png": "[encoded data removed]",
      "text/plain": [
       "<Figure size 432x288 with 1 Axes>"
      ]
     },
     "metadata": {
      "needs_background": "light"
     },
     "output_type": "display_data"
    },
    {
     "name": "stdout",
     "output_type": "stream",
     "text": [
      "2544    darkolivegreen\n",
      "1934               red\n",
      "Name: x, dtype: object\n"
     ]
    }
   ],
   "source": [
    "my_top_feature = ['pos_mz_516.3008','pos_mz_182.0808'] # Taurocholic acid and Tyrosine according to MetaboAnalyst\n",
    "\n",
    "# Find their location in the original dataframe to move forward with modeling:\n",
    "findat_shortnames = [x[:15] for x in findat.columns.tolist()]\n",
    "\n",
    "my_top_feature_id = []\n",
    "for feature in my_top_feature:\n",
    "    my_top_feature_id.append(indices(findat_shortnames,feature)[0])\n",
    "    \n",
    "new_df = pd.concat([findat_test.iloc[:,my_top_feature_id],clin['Composite']],axis = 1)\n",
    "#ax = sns.boxplot(x=\"Critical\", y=findat.columns[my_top_feature_id][0], data=new_df)\n",
    "new_df_long = new_df.melt(id_vars=['Composite'])\n",
    "ax = sns.boxplot(data=new_df_long, x=\"value\", y=\"variable\", orient=\"h\", hue=\"Composite\")\n",
    "plt.tight_layout()\n",
    "plt.show()\n",
    "\n",
    "# Check which module the features in the above plot belong to (SANITY CHECK):\n",
    "print(mergedcolors['x'][my_top_feature_id])"
   ]
  },
  {
   "cell_type": "markdown",
   "id": "0da631ca",
   "metadata": {},
   "source": [
    "## Use a grid-search to search for optimal parameters for each model, then run the 5-fold CV to get an estimate of predictive capabilities of top features vs all features"
   ]
  },
  {
   "cell_type": "code",
   "execution_count": null,
   "id": "55044679",
   "metadata": {},
   "outputs": [],
   "source": [
    "# Run classifier with cross-validation and plot ROC curves\n",
    "X_to_use = np.array(findat.iloc[:,my_top_feature_id])\n",
    "y_to_use = y.values\n",
    "\n",
    "classifier = RandomForestClassifier()\n",
    "# Try out a grid of parameters:\n",
    "parameters = {'max_features':np.arange(2,4),'n_estimators':[1000,2000],'max_depth':[2,3,4], 'random_state':[0]}\n",
    "classifier_opt = GridSearchCV(classifier, parameters, cv = 5)\n",
    "\n",
    "# Fit on entire dataset to get optimal parameters:\n",
    "classifier_opt.fit(X_to_use,y_to_use)\n",
    "params_to_use = classifier_opt.best_estimator_.get_params()\n",
    "\n",
    "cv = StratifiedKFold(n_splits=5)\n",
    "classifier_for_cv = RandomForestClassifier(**params_to_use)\n",
    "tprs = []\n",
    "aucs = []\n",
    "mean_fpr = np.linspace(0, 1, 100)\n",
    "\n",
    "fig, ax = plt.subplots(figsize=(8,6))\n",
    "for i, (train, test) in enumerate(cv.split(X_to_use, y_to_use)):\n",
    "    classifier_for_cv.fit(X_to_use[train], y_to_use[train])\n",
    "    viz = RocCurveDisplay.from_estimator(\n",
    "        classifier_for_cv,\n",
    "        X_to_use[test],\n",
    "        y_to_use[test],\n",
    "        name=\"ROC fold {}\".format(i),\n",
    "        alpha=0.3,\n",
    "        lw=1,\n",
    "        ax=ax,\n",
    "    )\n",
    "    interp_tpr = np.interp(mean_fpr, viz.fpr, viz.tpr)\n",
    "    interp_tpr[0] = 0.0\n",
    "    tprs.append(interp_tpr)\n",
    "    aucs.append(viz.roc_auc)\n",
    "\n",
    "ax.plot([0, 1], [0, 1], linestyle=\"--\", lw=2, color=\"r\", label=\"Chance\", alpha=0.8)\n",
    "\n",
    "mean_tpr = np.mean(tprs, axis=0)\n",
    "mean_tpr[-1] = 1.0\n",
    "mean_auc = auc(mean_fpr, mean_tpr)\n",
    "std_auc = np.std(aucs)\n",
    "ax.plot(\n",
    "    mean_fpr,\n",
    "    mean_tpr,\n",
    "    color=\"b\",\n",
    "    label=r\"Mean ROC (AUC = %0.2f $\\pm$ %0.2f)\" % (mean_auc, std_auc),\n",
    "    lw=2,\n",
    "    alpha=0.8,\n",
    ")\n",
    "\n",
    "std_tpr = np.std(tprs, axis=0)\n",
    "tprs_upper = np.minimum(mean_tpr + std_tpr, 1)\n",
    "tprs_lower = np.maximum(mean_tpr - std_tpr, 0)\n",
    "ax.fill_between(\n",
    "    mean_fpr,\n",
    "    tprs_lower,\n",
    "    tprs_upper,\n",
    "    color=\"grey\",\n",
    "    alpha=0.2,\n",
    "    label=r\"$\\pm$ 1 std. dev.\",\n",
    ")\n",
    "\n",
    "ax.set(\n",
    "    xlim=[-0.05, 1.05],\n",
    "    ylim=[-0.05, 1.05],\n",
    "    title=\"Receiver operating characteristic example\",\n",
    ")\n",
    "ax.legend(loc=\"lower right\")\n",
    "plt.show()"
   ]
  },
  {
   "cell_type": "code",
   "execution_count": null,
   "id": "5925cfc7",
   "metadata": {},
   "outputs": [],
   "source": [
    "# Run classifier with cross-validation and plot ROC curves\n",
    "X_to_use = np.array(findat)\n",
    "y_to_use = y.values\n",
    "\n",
    "classifier = RandomForestClassifier()\n",
    "# Try out a grid of parameters:\n",
    "parameters = {'max_features':np.arange(2,4),'n_estimators':[1000,2000],'max_depth':[2,3,4], 'random_state':[0]}\n",
    "classifier_opt = GridSearchCV(classifier, parameters, cv = 5)\n",
    "\n",
    "# Fit on entire dataset to get optimal parameters:\n",
    "classifier_opt.fit(X_to_use,y_to_use)\n",
    "params_to_use = classifier_opt.best_estimator_.get_params()\n",
    "\n",
    "cv = StratifiedKFold(n_splits=5)\n",
    "classifier_for_cv = RandomForestClassifier(**params_to_use)\n",
    "tprs = []\n",
    "aucs = []\n",
    "mean_fpr = np.linspace(0, 1, 100)\n",
    "\n",
    "fig, ax = plt.subplots(figsize=(8,6))\n",
    "for i, (train, test) in enumerate(cv.split(X_to_use, y_to_use)):\n",
    "    classifier_for_cv.fit(X_to_use[train], y_to_use[train])\n",
    "    viz = RocCurveDisplay.from_estimator(\n",
    "        classifier_for_cv,\n",
    "        X_to_use[test],\n",
    "        y_to_use[test],\n",
    "        name=\"ROC fold {}\".format(i),\n",
    "        alpha=0.3,\n",
    "        lw=1,\n",
    "        ax=ax,\n",
    "    )\n",
    "    interp_tpr = np.interp(mean_fpr, viz.fpr, viz.tpr)\n",
    "    interp_tpr[0] = 0.0\n",
    "    tprs.append(interp_tpr)\n",
    "    aucs.append(viz.roc_auc)\n",
    "\n",
    "ax.plot([0, 1], [0, 1], linestyle=\"--\", lw=2, color=\"r\", label=\"Chance\", alpha=0.8)\n",
    "\n",
    "mean_tpr = np.mean(tprs, axis=0)\n",
    "mean_tpr[-1] = 1.0\n",
    "mean_auc = auc(mean_fpr, mean_tpr)\n",
    "std_auc = np.std(aucs)\n",
    "ax.plot(\n",
    "    mean_fpr,\n",
    "    mean_tpr,\n",
    "    color=\"b\",\n",
    "    label=r\"Mean ROC (AUC = %0.2f $\\pm$ %0.2f)\" % (mean_auc, std_auc),\n",
    "    lw=2,\n",
    "    alpha=0.8,\n",
    ")\n",
    "\n",
    "std_tpr = np.std(tprs, axis=0)\n",
    "tprs_upper = np.minimum(mean_tpr + std_tpr, 1)\n",
    "tprs_lower = np.maximum(mean_tpr - std_tpr, 0)\n",
    "ax.fill_between(\n",
    "    mean_fpr,\n",
    "    tprs_lower,\n",
    "    tprs_upper,\n",
    "    color=\"grey\",\n",
    "    alpha=0.2,\n",
    "    label=r\"$\\pm$ 1 std. dev.\",\n",
    ")\n",
    "\n",
    "ax.set(\n",
    "    xlim=[-0.05, 1.05],\n",
    "    ylim=[-0.05, 1.05],\n",
    "    title=\"Receiver operating characteristic example\",\n",
    ")\n",
    "ax.legend(loc=\"lower right\")\n",
    "plt.show()"
   ]
  }
 ],
 "metadata": {
  "kernelspec": {
   "display_name": "Python 3.9.7 test for Jupyter",
   "language": "python",
   "name": "mynewenv"
  },
  "language_info": {
   "codemirror_mode": {
    "name": "ipython",
    "version": 3
   },
   "file_extension": ".py",
   "mimetype": "text/x-python",
   "name": "python",
   "nbconvert_exporter": "python",
   "pygments_lexer": "ipython3",
   "version": "3.10.4"
  }
 },
 "nbformat": 4,
 "nbformat_minor": 5
}
